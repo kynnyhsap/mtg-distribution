{
 "cells": [
  {
   "cell_type": "code",
   "execution_count": 29,
   "metadata": {},
   "outputs": [],
   "source": [
    "from itertools import permutations\n",
    "\n",
    "import pandas as pd"
   ]
  },
  {
   "cell_type": "code",
   "execution_count": 30,
   "metadata": {},
   "outputs": [],
   "source": [
    "class CardsDistributionSimulator:\n",
    "    def __init__(self, n_cards, n_earth):\n",
    "        self.cards_left = n_cards\n",
    "        self.earth_left = n_earth\n",
    "\n",
    "        self.i = 0\n",
    "\n",
    "    def take_card(self, earth=True):\n",
    "        if earth:\n",
    "            probability = self.earth_left / self.cards_left\n",
    "            self.earth_left -= 1\n",
    "        else:\n",
    "            probability = 1 - (self.earth_left / self.cards_left)\n",
    "\n",
    "        self.cards_left -= 1\n",
    "        self.i += 1\n",
    "\n",
    "        return probability\n",
    "\n",
    "    def __str__(self):\n",
    "        return f'Left {self.earth_left} earth in a deck of {self.cards_left} cards'"
   ]
  },
  {
   "cell_type": "code",
   "execution_count": 31,
   "metadata": {},
   "outputs": [],
   "source": [
    "class MTGProbabilityDistribution:\n",
    "    def __init__(self, total_cards=64, n_earth=25):\n",
    "        self.total_cards = total_cards\n",
    "        self.n_earth = n_earth\n",
    "\n",
    "        self.in_hand = 7\n",
    "\n",
    "    def dependent_permutations(self, n):\n",
    "        mask = [True] * n + [False] * (self.in_hand - n)\n",
    "\n",
    "        perms = permutations(mask)\n",
    "        perms = list(set(perms))\n",
    "\n",
    "        return perms\n",
    "\n",
    "    def n_cards_probability(self, n):\n",
    "        perms = self.dependent_permutations(n)\n",
    "\n",
    "        total_probability = 0\n",
    "        for perm in perms:\n",
    "            simulator = CardsDistributionSimulator(self.total_cards, self.n_earth)\n",
    "            perm_probability = 1\n",
    "\n",
    "            for is_earth in perm:\n",
    "                perm_probability *= simulator.take_card(earth=is_earth)\n",
    "\n",
    "            total_probability += perm_probability\n",
    "\n",
    "        return total_probability\n",
    "\n",
    "    def distribution_table(self):\n",
    "        table = pd.DataFrame({\n",
    "            'X_i': [i for i in range(self.in_hand + 1)],\n",
    "            'P_i': [self.n_cards_probability(i) for i in range(self.in_hand + 1)]\n",
    "        })\n",
    "        \n",
    "        return table"
   ]
  },
  {
   "cell_type": "code",
   "execution_count": 43,
   "metadata": {},
   "outputs": [],
   "source": [
    "dist = MTGProbabilityDistribution(total_cards=64, n_earth=25)\n",
    "\n",
    "table = dist.distribution_table()\n",
    "earth_mean = (table['P_i'] * table['X_i']).sum()"
   ]
  },
  {
   "cell_type": "code",
   "execution_count": 44,
   "metadata": {},
   "outputs": [
    {
     "data": {
      "text/html": [
       "<div>\n",
       "<style scoped>\n",
       "    .dataframe tbody tr th:only-of-type {\n",
       "        vertical-align: middle;\n",
       "    }\n",
       "\n",
       "    .dataframe tbody tr th {\n",
       "        vertical-align: top;\n",
       "    }\n",
       "\n",
       "    .dataframe thead th {\n",
       "        text-align: right;\n",
       "    }\n",
       "</style>\n",
       "<table border=\"1\" class=\"dataframe\">\n",
       "  <thead>\n",
       "    <tr style=\"text-align: right;\">\n",
       "      <th></th>\n",
       "      <th>X_i</th>\n",
       "      <th>P_i</th>\n",
       "    </tr>\n",
       "  </thead>\n",
       "  <tbody>\n",
       "    <tr>\n",
       "      <td>0</td>\n",
       "      <td>0</td>\n",
       "      <td>0.024759</td>\n",
       "    </tr>\n",
       "    <tr>\n",
       "      <td>1</td>\n",
       "      <td>1</td>\n",
       "      <td>0.131300</td>\n",
       "    </tr>\n",
       "    <tr>\n",
       "      <td>2</td>\n",
       "      <td>2</td>\n",
       "      <td>0.278047</td>\n",
       "    </tr>\n",
       "    <tr>\n",
       "      <td>3</td>\n",
       "      <td>3</td>\n",
       "      <td>0.304527</td>\n",
       "    </tr>\n",
       "    <tr>\n",
       "      <td>4</td>\n",
       "      <td>4</td>\n",
       "      <td>0.186100</td>\n",
       "    </tr>\n",
       "    <tr>\n",
       "      <td>5</td>\n",
       "      <td>5</td>\n",
       "      <td>0.063375</td>\n",
       "    </tr>\n",
       "    <tr>\n",
       "      <td>6</td>\n",
       "      <td>6</td>\n",
       "      <td>0.011118</td>\n",
       "    </tr>\n",
       "    <tr>\n",
       "      <td>7</td>\n",
       "      <td>7</td>\n",
       "      <td>0.000774</td>\n",
       "    </tr>\n",
       "  </tbody>\n",
       "</table>\n",
       "</div>"
      ],
      "text/plain": [
       "   X_i       P_i\n",
       "0    0  0.024759\n",
       "1    1  0.131300\n",
       "2    2  0.278047\n",
       "3    3  0.304527\n",
       "4    4  0.186100\n",
       "5    5  0.063375\n",
       "6    6  0.011118\n",
       "7    7  0.000774"
      ]
     },
     "execution_count": 44,
     "metadata": {},
     "output_type": "execute_result"
    }
   ],
   "source": [
    "table"
   ]
  },
  {
   "cell_type": "code",
   "execution_count": 45,
   "metadata": {},
   "outputs": [
    {
     "data": {
      "text/plain": [
       "2.7343749999999996"
      ]
     },
     "execution_count": 45,
     "metadata": {},
     "output_type": "execute_result"
    }
   ],
   "source": [
    "earth_mean"
   ]
  },
  {
   "cell_type": "code",
   "execution_count": null,
   "metadata": {},
   "outputs": [],
   "source": []
  }
 ],
 "metadata": {
  "kernelspec": {
   "display_name": "Python 3",
   "language": "python",
   "name": "python3"
  },
  "language_info": {
   "codemirror_mode": {
    "name": "ipython",
    "version": 3
   },
   "file_extension": ".py",
   "mimetype": "text/x-python",
   "name": "python",
   "nbconvert_exporter": "python",
   "pygments_lexer": "ipython3",
   "version": "3.7.5"
  }
 },
 "nbformat": 4,
 "nbformat_minor": 4
}
